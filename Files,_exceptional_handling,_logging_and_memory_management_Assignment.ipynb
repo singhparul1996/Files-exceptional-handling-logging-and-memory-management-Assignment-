{
  "nbformat": 4,
  "nbformat_minor": 0,
  "metadata": {
    "colab": {
      "provenance": []
    },
    "kernelspec": {
      "name": "python3",
      "display_name": "Python 3"
    },
    "language_info": {
      "name": "python"
    }
  },
  "cells": [
    {
      "cell_type": "markdown",
      "source": [
        "1. What is the difference between interpreted and compiled languages.\n",
        " -he key difference between compiled and interpreted languages lies in how they translate and execute code: compiled languages translate the entire program into machine code before execution, while interpreted languages translate and execute code line by line during runtime.\n",
        " Translation\n",
        "1 A compiled language is a programming language whose implementations are typically compilers and not interpreters.\tAn interpreted language is a programming language whose implementations execute instructions directly and freely, without previously compiling a program into machine-language instructions.\n",
        "2\tIn this language, once the program is compiled it is expressed in the instructions of the target machine.\tWhile in this language, the instructions are not directly executed by the target machine.\n",
        "3\tThere are at least two steps to get from source code to execution.\tThere is only one step to get from source code to execution.\n",
        "4\tIn this language, compiled programs run faster than interpreted programs.\tWhile in this language, interpreted programs can be modified while the program is running.\n",
        "5\tIn this language, compilation errors prevent the code from compiling.\tIn this languages, all the debugging occurs at run-time.\n",
        "6\tThe code of compiled language can be executed directly by the computer’s CPU.\tA program written in an interpreted language is not compiled, it is interpreted.\n",
        "7\tThis language delivers better performance.\tThis language example delivers relatively slower performance.\n",
        "8\tExample of compiled language – C, C++, C#, CLEO, COBOL, etc.\tExample of Interpreted language – JavaScript, Perl, Python, BASIC, etc."
      ],
      "metadata": {
        "id": "jQyxO9_IdBz4"
      }
    },
    {
      "cell_type": "markdown",
      "source": [
        "2. What is exception handling in Python.\n",
        "Python Exception Handling handles errors that occur during the execution of a program. Exception handling allows to respond to the error, instead of crashing the running program. It enables you to catch and manage errors, making your code more robust and user-friendly.\n",
        "\n",
        "Example: Trying to divide a number by zero will cause an exception.\n",
        "# Example of an exception\n",
        "n = 10\n",
        "try:\n",
        "    res = n / 0  # This will raise a ZeroDivisionError\n",
        "    \n",
        "except ZeroDivisionError:\n",
        "    print(\"Can't be divided by zero!\")\n",
        "\n",
        " Explanation: In this example, dividing number by 0 raises a ZeroDivisionError. The try block contains the code that might cause an exception and the except block handles the exception, printing an error message instead of stopping the program.\n",
        "\n"
      ],
      "metadata": {
        "id": "54qWj_QngTyx"
      }
    },
    {
      "cell_type": "markdown",
      "source": [
        "3. What is the purpose of the finally block in exception handling.\n",
        " -The purpose of the finally block in Python's exception handling is to ensure that a specific block of code, typically for cleanup tasks or resource release, is always executed, regardless of whether an exception occurred in the try block or not.\n",
        "Here's a more detailed explanation:\n",
        "Guaranteed Execution: The finally block will always execute after the try block completes, whether an exception was raised and handled in an except block or not, or if the try block executes without any exceptions.\n",
        "Resource Cleanup: The finally block is commonly used to ensure that resources like files, database connections, or network sockets are closed or released, even if an error occurs during the process.\n",
        "Example:\n",
        "Python\n",
        " try:\n",
        " # Code that might raise an exception\n",
        "  file = open(\"my_file.txt\", \"r\")\n",
        " # ... process the file ...\n",
        " except FileNotFoundError:\n",
        "        print(\"File not found\")\n",
        "finally:\n",
        " # This code will always execute, even if there's an exception\n",
        "        if 'file' in locals() and not file.closed:\n",
        "            file.close()\n",
        " Flow Control: After the finally block executes, the program continues execution from the statement following the entire try...except...finally block.\n",
        "           \n",
        "\n"
      ],
      "metadata": {
        "id": "2VwLLDKmgtCg"
      }
    },
    {
      "cell_type": "markdown",
      "source": [
        "4. What is logging in Python\n",
        "  -Logging is a means of tracking events that happen when some software runs. Logging is important for software developing, debugging, and running. If you don’t have any logging record and your program crashes, there are very few chances that you detect the cause of the problem. And if you detect the cause, it will consume a lot of time. With logging, you can leave a trail of breadcrumbs so that if something goes wrong, we can determine the cause of the problem.\n",
        "\n",
        "There are a number of situations like if you are expecting an integer, you have been given a float and you can a cloud API, the service is down for maintenance, and much more. Such problems are out of control and are hard to determine.\n",
        "Python Logging Levels\n",
        "There are five built-in levels of the log message.  \n",
        "\n",
        "Debug: These are used to give Detailed information, typically of interest only when diagnosing problems.\n",
        "Info: These are used to confirm that things are working as expected\n",
        "Warning: These are used as an indication that something unexpected happened, or is indicative of some problem in the near future\n",
        "Error: This tells that due to a more serious problem, the software has not been able to perform some function\n",
        "Critical: This tells serious error, indicating that the program itself may be unable to continue running"
      ],
      "metadata": {
        "id": "dMFFyDDXhP1A"
      }
    },
    {
      "cell_type": "markdown",
      "source": [
        "5. What is the significance of the __del__ method in Python.\n",
        "  -In Python, object-oriented programming provides several special methods that start and end with double underscores, known as \"magic methods\" or \"dunder methods.\" These methods enable you to customize the behavior of your classes in specific ways. One such method is __del__, which is also known as the destructor method. This article explores what the __del__ method is, how to use it effectively, and provides three practical examples of its usage.\n",
        "\n",
        "  What is the __del__ Method?\n",
        "The __del__ method is a special method in Python that is called when an object is about to be destroyed. It allows you to define specific cleanup actions that should be taken when an object is garbage collected. This method can be particularly useful for releasing external resources such as file handles, network connections, or database connections that the object may hold.\n",
        "\n",
        "Examples of Calling the __del__ Method\n",
        "The __del__ method is automatically called by Python's garbage collector when an object’s reference count drops to zero. Here are three straightforward examples demonstrating how and when the __del__ method is invoked:\n",
        "\n",
        "import os\n",
        "\n",
        "  class TempFile:\n",
        "      def __init__(self, filename):\n",
        "          self.filename = filename\n",
        "          with open(self.filename, 'w') as f:\n",
        "              f.write('Temporary data')\n",
        "\n",
        "      def __del__(self):\n",
        "          print(f\"Deleting temporary file: {self.filename}\")\n",
        "          os.remove(self.filename)\n",
        "\n",
        "  # Creating a temporary file\n",
        "  temp_file = TempFile('temp.txt')\n",
        "  print(\"Temp file created\")\n",
        "\n",
        "  # Deleting the object explicitly (calls __del__ method)\n",
        "  del temp_file"
      ],
      "metadata": {
        "id": "taBSnS0dh_RR"
      }
    },
    {
      "cell_type": "markdown",
      "source": [
        "6. What is the difference between import and from ... import in Python.\n",
        "  -In Python, both import and from ... import are used to bring external modules or specific elements from modules into your code, but they function slightly differently.\n",
        "\n",
        "1. Using import\n",
        "This imports the entire module.\n",
        "You need to use the module name as a prefix when accessing its functions or attributes.\n",
        "python\n",
        "Copy\n",
        "Edit\n",
        "import math\n",
        "print(math.sqrt(16))  # Output: 4.0\n",
        "Pros:\n",
        "\n",
        "Avoids name conflicts.\n",
        "Clearly shows where functions come from.\n",
        "Cons:\n",
        "\n",
        "Can be slightly verbose.\n",
        "2. Using from ... import\n",
        "This imports specific functions, classes, or variables from a module.\n",
        "You can use them directly without the module prefix.\n",
        "python\n",
        "Copy\n",
        "Edit\n",
        "from math import sqrt\n",
        "print(sqrt(16))  # Output: 4.0\n",
        "Pros:\n",
        "\n",
        "Makes the code cleaner.\n",
        "Only imports what you need.\n",
        "Cons:\n",
        "\n",
        "Risk of name conflicts if multiple modules have the same function names.\n",
        "Can make it unclear where a function comes from.\n",
        "3. Using from ... import *\n",
        "This imports everything from the module.\n",
        "python\n",
        "Copy\n",
        "Edit\n",
        "from math import *\n",
        "print(sqrt(16))  # Output: 4.0\n",
        "print(factorial(5))  # Output: 120\n",
        "Cons:\n",
        "\n",
        "Can lead to name conflicts.\n",
        "Hard to track where functions come from.\n",
        "Not recommended in larger projects."
      ],
      "metadata": {
        "id": "TMr4K7_6iZAp"
      }
    },
    {
      "cell_type": "markdown",
      "source": [
        "7. How can you handle multiple exceptions in Python.\n",
        "  -In Python, you can handle multiple exceptions by using a try-except block with multiple except clauses, each catching a specific type of exception, or by using a tuple of exception types in a single except clause.\n",
        "Here's a breakdown of the methods:\n",
        "1. Multiple except Clauses:\n",
        "This approach allows you to handle different exceptions with distinct logic.\n",
        "Each except block catches a specific exception type.\n",
        "Example:\n",
        "Python\n",
        "\n",
        "\n",
        "     try:\n",
        "         # Code that might raise multiple exceptions\n",
        "         x = 10 / 0  # ZeroDivisionError\n",
        "         y = int(\"abc\") # ValueError\n",
        "     except ZeroDivisionError:\n",
        "         print(\"Cannot divide by zero!\")\n",
        "     except ValueError:\n",
        "         print(\"Invalid input. Please enter a valid integer.\")\n",
        "     except Exception as e:\n",
        "         print(f\"An unexpected error occurred: {e}\")\n",
        "2. Tuple of Exception Types:\n",
        "You can group multiple exception types in a tuple within a single except clause.\n",
        "If any of the exceptions in the tuple are raised, the code in that except block will be executed.\n",
        "Example:\n",
        "Python\n",
        "\n",
        "\n",
        "     try:\n",
        "         # Code that might raise multiple exceptions\n",
        "         x = 10 / 0  # ZeroDivisionError\n",
        "         y = int(\"abc\") # ValueError\n",
        "     except (ZeroDivisionError, ValueError) as e:\n",
        "         print(f\"An error occurred: {e}\")\n",
        "3. else and finally Clauses (Optional):\n",
        "else clause: The code in the else block is executed only if no exceptions occur in the try block.\n",
        "finally clause: The code in the finally block is always executed, regardless of whether an exception occurred or not. It's often used for cleanup tasks (like closing files or releasing resources).\n",
        "Example:\n",
        "Python\n",
        "\n",
        "\n",
        "     try:\n",
        "         # Code that might raise an exception\n",
        "         result = 10 / 2\n",
        "     except ZeroDivisionError:\n",
        "         print(\"Cannot divide by zero!\")\n",
        "     else:\n",
        "         print(f\"Result: {result}\")\n",
        "     finally:\n",
        "         print(\"Execution complete.\")"
      ],
      "metadata": {
        "id": "8CX0NuE3jLkp"
      }
    },
    {
      "cell_type": "markdown",
      "source": [
        "8. What is the purpose of the with statement when handling files in Python.\n",
        "  -he with statement in Python, when used with file handling, ensures that a file is automatically closed after it's no longer needed, even if errors occur, simplifying resource management and preventing potential issues.\n",
        "Here's a more detailed explanation:\n",
        "Resource Management:\n",
        "The with statement is a context manager, meaning it handles the acquisition and release of resources (like files) in a controlled manner.\n",
        "Automatic Closure:\n",
        "When you use with to open a file, the file is automatically closed when the with block finishes, regardless of whether an exception was raised.\n",
        "Simplified Code:\n",
        "This eliminates the need for explicit try...finally blocks to ensure file closure, making your code cleaner and more readable.\n",
        "Example:\n",
        "Python\n",
        "\n",
        "\n",
        " with open(\"my_file.txt\", \"r\") as file:\n",
        "   # Perform operations on the file here\n",
        "        content = file.read()\n",
        "        print(content)\n",
        "   # The file is automatically closed here, even if an error occurred\n"
      ],
      "metadata": {
        "id": "KKR8_GZojVox"
      }
    },
    {
      "cell_type": "markdown",
      "source": [
        "9. What is the difference between multithreading and multiprocessing.\n",
        "  -Multiprocessing uses multiple CPUs to run many processes at a time while multithreading creates multiple threads within a single process to get faster and more efficient task execution. Both Multiprocessing and Multithreading are used to increase the computing power of a system in different ways. In this article, we are going to discuss the difference between multiprocessing and multithreading in detail.\n",
        "\n",
        "What is Multiprocessing?\n",
        "Multiprocessing is a system that has more than one or two processors. In Multiprocessing, CPUs are added to increase the computing speed of the system. Because of Multiprocessing, There are many processes are executed simultaneously. Explore more about similar topics. Multiprocessing is classified into two categories:\n",
        "\n",
        "1. Symmetric Multiprocessing\n",
        "2. Asymmetric Multiprocessing\n",
        "multiprocessing\n",
        "\n",
        "Advantages\n",
        "Increases computing power by utilizing multiple processors.\n",
        "Suitable for tasks that require heavy computational power.\n",
        "Disadvantages\n",
        "Process creation is time-consuming.\n",
        "Each process has its own address space, which can lead to higher memory usage.\n",
        "What is Multithreading?\n",
        "Multithreading is a system in which multiple threads are created of a process for increasing the computing speed of the system. In multithreading, many threads of a process are executed simultaneously and process creation in multithreading is done according to economical.\n",
        "multithreading\n",
        "\n",
        "Advantages\n",
        "More efficient than multiprocessing for tasks within a single process.\n",
        "Threads share a common address space, which is memory-efficient.\n",
        "Disadvantages\n",
        "Not classified into categories like multiprocessing.\n",
        "Thread creation is economical but can lead to synchronization issues.\n",
        "Difference Between Multiprocessing and Multithreading\n",
        "Multiprocessing\tMultithreading\n",
        "In Multiprocessing, CPUs are added for increasing computing power.\tWhile In Multithreading, many threads are created of a single process for increasing computing power.\n",
        "In Multiprocessing, Many processes are executed simultaneously.\tWhile in multithreading, many threads of a process are executed simultaneously.\n",
        "Multiprocessing are classified into Symmetric and Asymmetric.\tWhile Multithreading is not classified in any categories.\n",
        "In Multiprocessing, Process creation is a time-consuming process.\tWhile in Multithreading, process creation is according to economical.\n",
        "In Multiprocessing, every process owned a separate address space.\tWhile in Multithreading, a common address space is shared by all the threads."
      ],
      "metadata": {
        "id": "wrhrW4EbjZDR"
      }
    },
    {
      "cell_type": "markdown",
      "source": [
        "10. What are the advantages of using logging in a program.\n",
        "  -Logging in programming offers numerous advantages, including easier debugging, performance monitoring, security auditing, and compliance, ultimately leading to more robust and maintainable applications.\n",
        "Here's a more detailed breakdown of the benefits:\n",
        "1. Debugging and Troubleshooting:\n",
        "Identifying Errors:\n",
        "Logs capture errors, warnings, and other events, making it easier to pinpoint the source of issues during development and after deployment.\n",
        "Reproducing Issues:\n",
        "Logs provide a record of the program's state and actions, allowing developers to recreate problems and test fixes more effectively.\n",
        "Understanding Program Flow:\n",
        "Logs can help developers trace the execution path of the program, making it easier to understand how it behaves under different conditions.\n",
        "2. Performance Monitoring:\n",
        "Identifying Bottlenecks:\n",
        "Logs can reveal slow-running code or resource-intensive operations, allowing developers to optimize performance.\n",
        "Tracking Resource Usage:\n",
        "Logs can monitor CPU usage, memory consumption, and other resource metrics, helping to identify potential problems before they impact performance.\n",
        "Benchmarking:\n",
        "Logs can be used to track the performance of the application over time, allowing developers to identify trends and make improvements.\n",
        "3. Security Auditing:\n",
        "Detecting Malicious Activity:\n",
        "Logs can capture security-related events, such as failed login attempts or unauthorized access, allowing security teams to detect and respond to threats quickly.\n",
        "Compliance:\n",
        "Logs can be used to demonstrate compliance with security standards and regulations.\n",
        "Forensic Analysis:\n",
        "Logs can be used to investigate security incidents and determine the root cause of problems.\n",
        "4. Compliance and Record-Keeping:\n",
        "Auditing:\n",
        "Logs can be used to track user activity and system events, providing an audit trail for compliance purposes.\n",
        "Legal Requirements:\n",
        "Logs can be used to meet legal requirements for record-keeping and data retention.\n",
        "Regulatory Compliance:\n",
        "Logs can be used to demonstrate compliance with industry-specific regulations.\n",
        "5. User Behavior Analysis:\n",
        "Understanding User Needs: Logs can provide insights into how users interact with the application, helping developers to improve the user experience.\n",
        "Personalization: Logs can be used to personalize the application based on user behavior.\n",
        "Feature Prioritization: Logs can help developers prioritize features based on user usage patterns."
      ],
      "metadata": {
        "id": "0J51NTo6jb-B"
      }
    },
    {
      "cell_type": "markdown",
      "source": [
        "11. What is memory management in Python.In Python, memory management is the automated process of allocating and deallocating memory for objects, handled primarily through reference counting and garbage collection to ensure efficient memory usage and prevent leaks.\n",
        "Here's a more detailed explanation:\n",
        "Reference Counting:\n",
        "Python keeps track of how many times an object is referenced in the program. When an object's reference count drops to zero, meaning no part of the program is using it, the memory occupied by that object is automatically released.\n",
        "Garbage Collection:\n",
        "Python also employs a garbage collector that periodically scans for objects that are no longer accessible, even if they have a non-zero reference count due to circular references (where objects reference each other). The garbage collector identifies and removes these objects, reclaiming their memory.\n",
        "Memory Pools:\n",
        "Python uses memory pools to manage the allocation of small memory blocks. These pools consist of fixed-size blocks of memory, each of which can hold one or more Python objects.\n",
        "Memory Allocation:\n",
        "When a new object is created, Python checks if there is an available block in the memory pool that can accommodate the object's size. If not, it requests a new block from the operating system.\n",
        "Deallocation:\n",
        "When an object is no longer needed, its memory is automatically released back to the memory pool, making it available for future use.\n",
        "Advantages:\n",
        "This automated memory management simplifies programming in Python, as developers don't need to manually allocate or deallocate memory, reducing the risk of memory leaks and errors.\n",
        "Best Practices:\n",
        "While Python's memory management is generally efficient, there are some best practices to consider for optimal performance, such as using appropriate data structures for the task at hand and using specialized libraries for large datasets"
      ],
      "metadata": {
        "id": "wINVS1OfjfYp"
      }
    },
    {
      "cell_type": "markdown",
      "source": [
        "12. What are the basic steps involved in exception handling in Python.\n",
        "  -Python Exception Handling handles errors that occur during the execution of a program. Exception handling allows to respond to the error, instead of crashing the running program. It enables you to catch and manage errors, making your code more robust and user-friendly.\n",
        "\n",
        "Example: Trying to divide a number by zero will cause an exception.\n",
        "# Example of an exception\n",
        "n = 10\n",
        "try:\n",
        "   res = n / 0  # This will raise a ZeroDivisionError\n",
        "    \n",
        "except ZeroDivisionError:\n",
        "   print(\"Can't be divided by zero!\")"
      ],
      "metadata": {
        "id": "AUjRqDcMjiRh"
      }
    },
    {
      "cell_type": "markdown",
      "source": [
        "13. Why is memory management important in Python."
      ],
      "metadata": {
        "id": "PkfcpRzXjmdx"
      }
    },
    {
      "cell_type": "markdown",
      "source": [
        "14. What is the role of try and except in exception handling.\n",
        "  -In Python, try and except are used for exception handling, which allows a program to deal with runtime errors gracefully instead of crashing.\n",
        "\n",
        "Role of try and except\n",
        "try Block:\n",
        "\n",
        "Contains the code that may raise an exception.\n",
        "If no exception occurs, the code runs normally.\n",
        "If an exception occurs, the execution moves to the except block.\n",
        "except Block:\n",
        "\n",
        "Handles the exception that occurs in the try block.\n",
        "Prevents the program from crashing by providing alternative code execution.\n",
        "Example:\n",
        "python\n",
        "Copy\n",
        "Edit\n",
        "try:\n",
        "num = int(input(\"Enter a number: \")) result = 10 / num  # May raise ZeroDivisionError if num is 0 print(\"Result:\", result)\n",
        "except ZeroDivisionError:\n",
        "   print(\"Error: Cannot divide by zero!\")\n",
        "except ValueError:\n",
        "  print(\"Error: Invalid input! Please enter a number.\")"
      ],
      "metadata": {
        "id": "QqEq3Q1wjpkR"
      }
    },
    {
      "cell_type": "markdown",
      "source": [
        "15. How does Python's garbage collection system work.How Python’s Garbage Collection System Works\n",
        "Python's garbage collection (GC) system is responsible for automatically managing memory by reclaiming unused objects to free up space. It primarily works using reference counting and cyclic garbage collection.\n",
        "\n",
        "1. Reference Counting\n",
        "Python keeps track of how many references (or variables) point to an object in memory. When an object's reference count drops to zero, it is immediately deleted.\n",
        "\n",
        "Example:\n",
        "import sys\n",
        "\n",
        "a = [1, 2, 3]   # A list object is created\n",
        "b = a           # Reference count increases\n",
        "print(sys.getrefcount(a))  # Reference count (includes function scope)\n",
        "\n",
        "del a  # One reference removed\n",
        "del b  # Last reference removed → List is garbage collected\n",
        "If there are no references left to an object, Python automatically deallocates it.\n",
        "2. Cyclic Garbage Collection (For Circular References)\n",
        "Reference counting fails when objects refer to each other, forming a cycle.\n",
        "\n",
        "Example of Circular Reference:\n",
        "import gc\n",
        "\n",
        "class Node:\n",
        "    def __init__(self):\n",
        "        self.reference = None\n",
        "\n",
        "a = Node()\n",
        "b = Node()\n",
        "a.reference = b\n",
        "b.reference = a  # Circular reference\n",
        "\n",
        "del a\n",
        "del b  # Objects still exist because they reference each other\n",
        "\n",
        "gc.collect()  # Explicitly trigger garbage collection\n",
        "Python's cyclic garbage collector detects and removes such cycles using generation-based collection.\n",
        "3. Generational Garbage Collection\n",
        "Python's garbage collector divides objects into three generations (0, 1, 2) based on their lifespan:\n",
        "\n",
        "Gen 0: New objects (collected frequently)\n",
        "Gen 1: Survived one collection cycle\n",
        "Gen 2: Long-lived objects (collected the least)\n",
        "The GC runs more frequently on younger objects since they are more likely to become unused.\n",
        "\n",
        "4. Manually Controlling Garbage Collection\n",
        "Python allows manual control using the gc module.\n",
        "\n",
        "Check if GC is enabled:\n",
        "import gc\n",
        "print(gc.isenabled())  # True by default\n",
        "Disable GC:\n",
        "gc.disable()\n",
        "Manually run GC:\n",
        "gc.collect()\n"
      ],
      "metadata": {
        "id": "G0JRMOvWjtWx"
      }
    },
    {
      "cell_type": "markdown",
      "source": [
        "16. What is the purpose of the else block in exception handling.\n",
        "  -Purpose of the else Block in Exception Handling\n",
        "In Python, the else block in a try-except statement executes only if no exceptions occur in the try block. It is used to separate code that should run only when the try block succeeds (i.e., no errors occur).\n",
        "\n",
        "Syntax:\n",
        "python\n",
        "Copy\n",
        "Edit\n",
        "try:\n",
        "    # Code that may raise an exception\n",
        "except ExceptionType:\n",
        "    # Code that handles the exception\n",
        "else:\n",
        "    # Code that runs only if the try block succeeds\n",
        "Example 1: Using else in Exception Handling\n",
        "python\n",
        "Copy\n",
        "Edit\n",
        "try:\n",
        "    num = int(input(\"Enter a number: \"))  # May raise ValueError\n",
        "    result = 10 / num  # May raise ZeroDivisionError\n",
        "except ValueError:\n",
        "    print(\"Error: Please enter a valid integer.\")\n",
        "except ZeroDivisionError:\n",
        "    print(\"Error: Cannot divide by zero.\")\n",
        "else:\n",
        "    print(\"Success! The result is:\", result)  # Runs only if no exception occurs\n",
        "Output Scenarios:\n",
        "✅ Input: 5 → Success! The result is: 2.0\n",
        "❌ Input: abc → Error: Please enter a valid integer.\n",
        "❌ Input: 0 → Error: Cannot divide by zero.\n",
        "\n",
        "Why Use else?\n",
        "Improves Code Readability\n",
        "\n",
        "Separates error-handling (except) from normal execution (else).\n",
        "Avoids Accidental Exception Handling\n",
        "\n",
        "Code inside else is guaranteed to run only if no exceptions occur in try.\n",
        "Enhances Performance\n",
        "\n",
        "Since else does not catch exceptions, Python executes it without additional exception-handling overhead.\n"
      ],
      "metadata": {
        "id": "KuKivxfwjx6y"
      }
    },
    {
      "cell_type": "markdown",
      "source": [
        "17. What are the common logging levels in Python.  \n",
        "  -Common Logging Levels in Python\n",
        "Python's logging module provides several log levels to categorize the importance of messages. The most commonly used logging levels (from lowest to highest severity) are:\n",
        "\n",
        "Level\tNumeric Value\tDescription\n",
        "DEBUG\t10\tDetailed debugging information, useful for diagnosing issues.\n",
        "INFO\t20\tGeneral information about program execution.\n",
        "WARNING\t30\tAn indication of something unexpected, but the program continues.\n",
        "ERROR\t40\tA serious issue that caused an operation to fail.\n",
        "CRITICAL\t50\tA severe error indicating that the program may crash.\n",
        "Example: Using Different Logging Levels\n",
        "python\n",
        "Copy\n",
        "Edit\n",
        "import logging\n",
        "\n",
        "# Configure logging format\n",
        "logging.basicConfig(level=logging.DEBUG, format='%(levelname)s: %(message)s')\n",
        "\n",
        "logging.debug(\"This is a debug message\")    # Lowest level (10)\n",
        "logging.info(\"This is an info message\")     # General info (20)\n",
        "logging.warning(\"This is a warning message\")# Something unexpected (30)\n",
        "logging.error(\"This is an error message\")   # Something failed (40)\n",
        "logging.critical(\"This is a critical message\") # Major failure (50)"
      ],
      "metadata": {
        "id": "zoX1uN_Fj025"
      }
    },
    {
      "cell_type": "markdown",
      "source": [
        "18. What is the difference between os.fork() and multiprocessing in Python.  \n",
        "  -Difference Between os.fork() and multiprocessing in Python\n",
        "Both os.fork() and the multiprocessing module in Python are used to create new processes, but they work in fundamentally different ways.\n",
        "\n",
        "Feature\tos.fork()\tmultiprocessing\n",
        "Process Creation\tCreates a child process as a copy of the parent.\tSpawns a completely new process.\n",
        "Platform Support\tUnix/Linux only (not available on Windows).\tCross-platform (Windows, macOS, Linux).\n",
        "Memory Sharing\tChild process inherits memory space of the parent (Copy-on-Write).\tEach process has a separate memory space.\n",
        "Inter-Process Communication (IPC)\tRequires manual setup (pipes, shared memory).\tProvides built-in IPC mechanisms (Queue, Pipe, Manager).\n",
        "Ease of Use\tLower-level, requires manual handling.\tHigher-level, easier to manage parallel tasks.\n",
        "Performance\tFaster for lightweight process creation.\tBetter suited for complex parallelism.\n",
        "1. os.fork(): Creating a Child Process (Unix/Linux Only)\n",
        "os.fork() creates a child process that is a duplicate of the parent process.\n",
        "\n",
        "Example:\n",
        "import os\n",
        "\n",
        "def child_process():\n",
        "    print(f\"Child process (PID: {os.getpid()})\")\n",
        "\n",
        "pid = os.fork()  # Creates a new process\n",
        "\n",
        "if pid == 0:\n",
        "    child_process()  # Runs in the child process\n",
        "else:\n",
        "    print(f\"Parent process (PID: {os.getpid()}), Child PID: {pid}\")\n",
        "How It Works:\n",
        "os.fork() returns 0 in the child process and the child's PID in the parent process.\n",
        "Used for creating low-level process control but needs explicit IPC mechanisms for communication.\n",
        "2. multiprocessing: Cross-Platform Process Creation\n",
        "The multiprocessing module provides a high-level interface for parallel execution.\n",
        "\n",
        "Example:\n",
        "from multiprocessing import Process\n",
        "\n",
        "def worker():\n",
        "    print(f\"Worker process (PID: {os.getpid()})\")\n",
        "\n",
        "if __name__ == \"__main__\":\n",
        "    p = Process(target=worker)  # Create a new process\n",
        "    p.start()  # Start process\n",
        "    p.join()   # Wait for the process to finish"
      ],
      "metadata": {
        "id": "3hNgfAk7j5eZ"
      }
    },
    {
      "cell_type": "markdown",
      "source": [
        "19. What is the importance of closing a file in Python?\n",
        "Importance of Closing a File in Python\n",
        "When working with files in Python, it is crucial to close them after use to prevent resource leaks and ensure data integrity.\n",
        "\n",
        "Why is Closing a File Important?\n",
        "Releases System Resources\n",
        "\n",
        "Each open file consumes system resources (memory, file handles).\n",
        "Closing the file frees up these resources.\n",
        "Prevents Data Loss & Corruption\n",
        "\n",
        "If a file is not closed properly, data written may not be saved correctly.\n",
        "Closing ensures that all data is flushed from the buffer to the disk.\n",
        "Avoids Errors & Unexpected Behavior\n",
        "\n",
        "Keeping a file open for too long can cause \"Too many open files\" errors.\n",
        "Other programs may have issues accessing the file if it's still open.\n",
        "Example Without Closing the File\n",
        "file = open(\"example.txt\", \"w\")\n",
        "file.write(\"Hello, World!\")\n",
        "# Forgot to close the file\n",
        "This can lead to data corruption or resource leaks.\n",
        "Example With Proper File Closing\n",
        "file = open(\"example.txt\", \"w\")\n",
        "file.write(\"Hello, World!\")\n",
        "file.close()  # Ensures data is written and resources are freed"
      ],
      "metadata": {
        "id": "KxcP3Oftj8uZ"
      }
    },
    {
      "cell_type": "markdown",
      "source": [
        "20. What is the difference between file.read() and file.readline() in Python?\n",
        "Difference Between file.read() and file.readline() in Python\n",
        "Both file.read() and file.readline() are used to read content from a file, but they work differently in how they retrieve data.\n",
        "\n",
        "1. file.read()\n",
        "Reads the entire file or a specified number of characters.\n",
        "Returns the content as a single string.\n",
        "Can be memory-intensive for large files.\n",
        "Example: Reading the Entire File\n",
        "With open(\"example.txt\", \"r\") as file:\n",
        "    content = file.read()  # Reads the entire file\n",
        "    print(content)\n",
        "Example: Reading a Specific Number of Characters\n",
        "with open(\"example.txt\", \"r\") as file:\n",
        "    content = file.read(10)  # Reads the first 10 characters\n",
        "    print(content)\n",
        "2. file.readline()\n",
        "Reads one line at a time from the file.\n",
        "Returns a string with the newline (\\n) at the end (except for the last line).\n",
        "Useful for processing files line by line (efficient for large files).\n",
        "Example: Reading One Line at a Time\n",
        "with open(\"example.txt\", \"r\") as file:\n",
        "    line = file.readline()  # Reads the first line\n",
        "    print(line)\n",
        "Looping Through a File Using readline()\n",
        "with open(\"example.txt\", \"r\") as file:\n",
        "    while True:\n",
        "        line = file.readline()\n",
        "        if not line:  # Stops when no more lines\n",
        "            break\n",
        "        print(line.strip())  # Removes extra newline for clean output\n",
        "Key Differences\n",
        "Feature\tfile.read()\tfile.readline()\n",
        "Reads\tEntire file (or specified characters)\tOne line at a time\n",
        "Returns\tA single string\tA string containing one line\n",
        "Memory Usage\tHigh for large files\tMore efficient for large files\n",
        "Best For\tReading full content\tProcessing line by line\n"
      ],
      "metadata": {
        "id": "j5hBXT-wj_dR"
      }
    },
    {
      "cell_type": "markdown",
      "source": [
        "21. What is the logging module in Python used for?\n",
        "  -What is the logging Module in Python Used For?\n",
        "The logging module in Python is used to record events and messages in a program, helping with debugging, monitoring, and error tracking. It allows developers to log messages at different levels and store them in files, consoles, or external systems.\n",
        "\n",
        "Key Uses of the logging Module\n",
        "Debugging & Troubleshooting – Helps track errors and unexpected behavior.\n",
        "Monitoring Application Flow – Logs events to understand execution history.\n",
        "Error Reporting – Captures exceptions and errors for analysis.\n",
        "Performance Analysis – Tracks execution time and system events.\n",
        "Auditing & Security – Keeps records of important actions.\n",
        "Basic Example of Logging\n",
        "import logging\n",
        "\n",
        "# Configure basic logging\n",
        "logging.basicConfig(level=logging.DEBUG, format='%(levelname)s: %(message)s')\n",
        "\n",
        "logging.debug(\"This is a debug message\")    # Lowest level\n",
        "logging.info(\"This is an info message\")     # General information\n",
        "logging.warning(\"This is a warning message\")# Something unexpected\n",
        "logging.error(\"This is an error message\")   # A serious problem\n",
        "logging.critical(\"This is a critical message\") # A fatal error\n",
        "\n",
        "Output:\n",
        "DEBUG: This is a debug message\n",
        "INFO: This is an info message\n",
        "WARNING: This is a warning message\n",
        "ERROR: This is an error message\n",
        "CRITICAL: This is a critical message"
      ],
      "metadata": {
        "id": "83AKCXRakCtB"
      }
    },
    {
      "cell_type": "markdown",
      "source": [
        "22. What is the os module in Python used for in file handling?\n",
        "  -The OS module in Python provides functions for interacting with the operating system. OS comes under Python’s standard utility modules. This module provides a portable way of using operating system-dependent functionality.\n",
        "The os module in Python is used for interacting with the operating system, and it provides several functions for file handling. Some of its key uses include:\n",
        "\n",
        "1 Checking if a File or Directory Exists\n",
        "import os\n",
        "print(os.path.exists(\"example.txt\"))  # Checks if the file exists\n",
        "print(os.path.isdir(\"my_folder\"))  # Checks if the directory exists\n",
        "print(os.path.isfile(\"example.txt\"))  # Checks if it's a file\n",
        "\n",
        "2 Creating and Removing Directories\n",
        "os.mkdir(\"new_folder\")  # Creates a new directory\n",
        "os.makedirs(\"parent_folder/child_folder\")  # Creates nested directories\n",
        "os.rmdir(\"new_folder\")  # Removes an empty directory\n",
        "os.removedirs(\"parent_folder/child_folder\")  # Removes nested directories\n",
        "\n",
        "3 Renaming and Deleting Files\n",
        "os.rename(\"old_file.txt\", \"new_file.txt\")  # Renames a file\n",
        "os.remove(\"unwanted_file.txt\")  # Deletes a file\n",
        "\n",
        "4 Getting and Changing the Current Working Directory\n",
        "print(os.getcwd())  # Prints the current working directory\n",
        "os.chdir(\"/path/to/directory\")  # Changes the working directory\n",
        "\n",
        "5 Listing Files and Directories\n",
        "print(os.listdir(\".\"))  # Lists all files and directories in the current directory\n",
        "\n",
        "6 Getting File Metadata\n",
        "file_info = os.stat(\"example.txt\")\n",
        "print(file_info.st_size)  # File size in bytes\n",
        "print(file_info.st_mtime)  # Last modified time\n",
        "\n",
        "7 Working with Paths (os.path)\n",
        "print(os.path.join(\"folder\", \"file.txt\"))  # Joins paths correctly\n",
        "print(os.path.abspath(\"file.txt\"))  # Gets the absolute path\n",
        "print(os.path.split(\"/folder/file.txt\"))  # Splits into directory and file\n",
        "print(os.path.splitext(\"file.txt\"))  # Splits filename and extension"
      ],
      "metadata": {
        "id": "0wfestm7kLep"
      }
    },
    {
      "cell_type": "markdown",
      "source": [
        "23. What are the challenges associated with memory management in Python?\n",
        "  -Python's automatic memory management, while convenient, presents challenges like potential memory leaks due to circular references and difficulties in debugging memory-related issues, especially when dealing with large datasets or complex algorithms.\n",
        "Here's a breakdown of the challenges:\n",
        "Circular References and Memory Leaks:\n",
        "Python uses a combination of reference counting and a garbage collector for memory management. While reference counting helps reclaim memory when objects are no longer used, it can fail to detect circular references where two or more objects hold references to each other, preventing the garbage collector from reclaiming their memory, leading to memory leaks.\n",
        "Performance Overhead:\n",
        "The garbage collector, while essential, can introduce performance overhead, especially when dealing with large datasets or complex algorithms.\n",
        "Debugging Memory Issues:\n",
        "Python's memory management is abstracted, making it challenging to pinpoint memory leaks or inefficiencies.\n",
        "Memory Profiling:\n",
        "Memory profiling tools can help identify memory leaks and inefficiencies, but they require additional effort and expertise.\n",
        "Concurrency Model:\n",
        "Python's threading model and the Global Interpreter Lock (GIL) can pose challenges for CPU-bound tasks, potentially leading to performance bottlenecks in concurrent applications.\n",
        "Memory Allocation:\n",
        "While Python's memory allocation is dynamic, it can lead to fragmentation and inefficiencies, especially when dealing with short-lived objects.\n",
        "Large Datasets:\n",
        "Working with large datasets can strain Python's memory management, potentially leading to out-of-memory errors or performance issues.\n",
        "Memory Error Handling:\n",
        "Python's built-in memory error handling might not be sufficient for all scenarios, requiring developers to implement custom error handling mechanisms.\n",
        "Default Python Implementation (CPython):\n",
        "CPython, the default Python implementation, is written in C and has its own memory management mechanisms, which can be complex to understand and debug.\n",
        "Deallocation:\n",
        "Python's small object manager rarely returns memory back to the operating system, which can lead to memory fragmentation and inefficient memory usage"
      ],
      "metadata": {
        "id": "6scsbOw3kPAZ"
      }
    },
    {
      "cell_type": "markdown",
      "source": [
        "24. How do you raise an exception manually in Python?  \n",
        "  -Raise an exception\n",
        "As a Python developer you can choose to throw an exception if a condition occurs.\n",
        "\n",
        "To throw (or raise) an exception, use the raise keyword.\n",
        "\n",
        "ExampleGet your own Python Server\n",
        "Raise an error and stop the program if x is lower than 0:\n",
        "\n",
        "x = -1\n",
        "\n",
        "if x < 0:\n",
        "  raise Exception(\"Sorry, no numbers below zero\")"
      ],
      "metadata": {
        "id": "14djeHSLkSNh"
      }
    },
    {
      "cell_type": "code",
      "source": [
        "#1 How can you open a file for writing in Python and write a string to it?\n",
        "#You can open a file for writing in Python using the open() function with the \"w\" mode. Here’s how you can write a string to a file:\n",
        "\n",
        "# Open the file in write mode ('w')\n",
        "with open(\"example.txt\", \"w\") as file:\n",
        "    file.write(\"Hello, this is a sample text!\")\n",
        "\n",
        "print(\"File written successfully!\")\n",
        "#Appending Instead of Overwriting:\n",
        "#If you want to add content without erasing existing data, use \"a\" (append mode):\n",
        "\n",
        "with open(\"example.txt\", \"a\") as file:\n",
        "    file.write(\"\\nThis is an additional line.\")\n",
        "# Open the file in write mode ('w')\n",
        "\n"
      ],
      "metadata": {
        "id": "6Q_BSMzPc-2Q",
        "colab": {
          "base_uri": "https://localhost:8080/"
        },
        "outputId": "7fe68031-f8c0-4965-ad6b-f07e20c6b1f7"
      },
      "execution_count": 5,
      "outputs": [
        {
          "output_type": "stream",
          "name": "stdout",
          "text": [
            "File written successfully!\n"
          ]
        }
      ]
    },
    {
      "cell_type": "code",
      "source": [
        "#2 Write a Python program to read the contents of a file and print each line.\n",
        "# Open the file in read mode ('r')\n",
        "with open(\"example.txt\", \"r\") as file:\n",
        "    for line in file:\n",
        "        print(line.strip())  # Strip removes extra newlines"
      ],
      "metadata": {
        "id": "WbSVQzXukKmi",
        "colab": {
          "base_uri": "https://localhost:8080/"
        },
        "outputId": "9ebfe898-5c7c-41d3-ddcf-ea7a2338ac3b"
      },
      "execution_count": 6,
      "outputs": [
        {
          "output_type": "stream",
          "name": "stdout",
          "text": [
            "Hello, this is a sample text!\n",
            "This is an additional line.\n"
          ]
        }
      ]
    },
    {
      "cell_type": "code",
      "execution_count": 9,
      "metadata": {
        "id": "daZ2QUxfc2k-",
        "colab": {
          "base_uri": "https://localhost:8080/"
        },
        "outputId": "ba47864b-8708-4f5c-ef7c-6f95ad17b394"
      },
      "outputs": [
        {
          "output_type": "stream",
          "name": "stdout",
          "text": [
            "Hello, this is a sample text!\n",
            "This is an additional line.\n",
            "Hello, this is a sample text!\n",
            "This is an additional line.\n"
          ]
        }
      ],
      "source": [
        "#3 How would you handle a case where the file doesn't exist while trying to open it for reading?\n",
        "#You can handle cases where the file doesn't exist using a try-except block to catch the FileNotFoundError. Here's how:\n",
        "#Program with Error Handling:\n",
        "try:\n",
        "    with open(\"example.txt\", \"r\") as file:\n",
        "        for line in file:\n",
        "            print(line.strip())  # Remove extra newlines\n",
        "except FileNotFoundError:\n",
        "    print(\"Error: The file does not exist. Please check the filename or path.\")\n",
        "\n",
        "#Alternative: Check Before Opening\n",
        "#You can also check if the file exists using os.path.exists():\n",
        "\n",
        "import os\n",
        "\n",
        "filename = \"example.txt\"\n",
        "\n",
        "if os.path.exists(filename):\n",
        "    with open(filename, \"r\") as file:\n",
        "        print(file.read())\n",
        "else:\n",
        "    print(\"Error: The file does not exist.\")"
      ]
    },
    {
      "cell_type": "code",
      "source": [
        "#4 Write a Python script that reads from one file and writes its content to another file.\n",
        "with open(\"source.txt\", \"r\") as source_file, open(\"destination.txt\", \"w\") as dest_file:\n",
        "  for line in source_file:\n",
        "        dest_file.write(line)  # Write each line to the destination file\n",
        "\n",
        "print(\"File copied successfully!\")\n",
        "open(\"source.txt\", \"r\") as source_file:\n",
        "    content = source_file.read()\n",
        "\n",
        "with open(\"destination.txt\", \"w\") as dest_file:\n",
        "    dest_file.write(content)\n",
        "\n",
        "print(\"File copied successfully!\")\n",
        "\n"
      ],
      "metadata": {
        "colab": {
          "base_uri": "https://localhost:8080/",
          "height": 106
        },
        "id": "2Xxts4bJPXF3",
        "outputId": "8e37e1b9-6dce-40d0-8b7e-8ec6db641c06"
      },
      "execution_count": 29,
      "outputs": [
        {
          "output_type": "error",
          "ename": "SyntaxError",
          "evalue": "invalid syntax (<ipython-input-29-d1cf43c38877>, line 7)",
          "traceback": [
            "\u001b[0;36m  File \u001b[0;32m\"<ipython-input-29-d1cf43c38877>\"\u001b[0;36m, line \u001b[0;32m7\u001b[0m\n\u001b[0;31m    open(\"source.txt\", \"r\") as source_file:\u001b[0m\n\u001b[0m                            ^\u001b[0m\n\u001b[0;31mSyntaxError\u001b[0m\u001b[0;31m:\u001b[0m invalid syntax\n"
          ]
        }
      ]
    },
    {
      "cell_type": "code",
      "source": [
        "#5  How would you catch and handle division by zero error in Python?\n",
        "#Example with ZeroDivisionError Handling\n",
        "\n",
        "try:\n",
        "    numerator = int(input(\"Enter numerator: \"))\n",
        "    denominator = int(input(\"Enter denominator: \"))\n",
        "    result = numerator / denominator  # Might raise ZeroDivisionError\n",
        "    print(\"Result:\", result)\n",
        "except ZeroDivisionError:\n",
        "    print(\"Error: Division by zero is not allowed.\")"
      ],
      "metadata": {
        "colab": {
          "base_uri": "https://localhost:8080/"
        },
        "id": "4jSr4agwPaSY",
        "outputId": "3985bccd-ce9d-469e-fd1b-7f8a8ff66ac8"
      },
      "execution_count": 20,
      "outputs": [
        {
          "output_type": "stream",
          "name": "stdout",
          "text": [
            "Enter numerator: 8\n",
            "Enter denominator: 8\n",
            "Result: 1.0\n"
          ]
        }
      ]
    },
    {
      "cell_type": "code",
      "source": [
        "#6 Write a Python program that logs an error message to a log file when a division by zero exception occurs.\n",
        "import logging\n",
        "\n",
        "# Configure logging to write errors to a file\n",
        "logging.basicConfig(filename=\"error.log\", level=logging.ERROR,\n",
        "                    format=\"%(asctime)s - %(levelname)s - %(message)s\")\n",
        "\n",
        "def divide_numbers():\n",
        "    try:\n",
        "        numerator = int(input(\"Enter numerator: \"))\n",
        "        denominator = int(input(\"Enter denominator: \"))\n",
        "        result = numerator / denominator\n",
        "        print(\"Result:\", result)\n",
        "    except ZeroDivisionError:\n",
        "        print(\"Error: Division by zero is not allowed.\")\n",
        "        logging.error(\"Attempted division by zero.\")  # Log the error\n",
        "    except ValueError:\n",
        "        print(\"Error: Please enter valid numbers.\")\n",
        "        logging.error(\"Invalid input: Non-numeric value entered.\")  # Log invalid input error\n",
        "\n",
        "# Run the function\n",
        "divide_numbers()\n",
        "\n",
        "print(\"Check 'error.log' for logged errors.\")"
      ],
      "metadata": {
        "colab": {
          "base_uri": "https://localhost:8080/"
        },
        "id": "M7tGNy8SPkwH",
        "outputId": "216e4611-bc21-482a-eeb8-e8dc5b59ea15"
      },
      "execution_count": 23,
      "outputs": [
        {
          "output_type": "stream",
          "name": "stdout",
          "text": [
            "Enter numerator: 7\n",
            "Enter denominator: 9\n",
            "Result: 0.7777777777777778\n",
            "Check 'error.log' for logged errors.\n"
          ]
        }
      ]
    },
    {
      "cell_type": "code",
      "source": [
        "#7 How do you log information at different levels (INFO, ERROR, WARNING) in Python using the logging module.\n",
        "import logging\n",
        "\n",
        "# Configure logging to write messages to a file and display on console\n",
        "logging.basicConfig(\n",
        "    filename=\"app.log\",  # Log file\n",
        "    level=logging.DEBUG,  # Set minimum level to capture\n",
        "    format=\"%(asctime)s - %(levelname)s - %(message)s\",  # Log format\n",
        "    filemode=\"w\"  # Overwrite log file each run; use 'a' to append\n",
        ")\n",
        "\n",
        "# Log messages at different levels\n",
        "logging.debug(\"This is a DEBUG message - useful for troubleshooting.\")\n",
        "logging.info(\"This is an INFO message - general app updates.\")\n",
        "logging.warning(\"This is a WARNING message - something unexpected happened but not critical.\")\n",
        "logging.error(\"This is an ERROR message - something went wrong.\")\n",
        "logging.critical(\"This is a CRITICAL message - major failure.\")\n",
        "\n",
        "print(\"Logs have been written to 'app.log'.\")"
      ],
      "metadata": {
        "colab": {
          "base_uri": "https://localhost:8080/"
        },
        "id": "AUhyaarRPpOf",
        "outputId": "16349fb6-5e61-4aea-a558-eb03a3585a41"
      },
      "execution_count": 24,
      "outputs": [
        {
          "output_type": "stream",
          "name": "stderr",
          "text": [
            "WARNING:root:This is a WARNING message - something unexpected happened but not critical.\n",
            "ERROR:root:This is an ERROR message - something went wrong.\n",
            "CRITICAL:root:This is a CRITICAL message - major failure.\n"
          ]
        },
        {
          "output_type": "stream",
          "name": "stdout",
          "text": [
            "Logs have been written to 'app.log'.\n"
          ]
        }
      ]
    },
    {
      "cell_type": "code",
      "source": [
        "#8 Write a program to handle a file opening error using exception handling.\n",
        "def read_file(filename):\n",
        "    try:\n",
        "        with open(filename, \"r\") as file:\n",
        "            content = file.read()\n",
        "            print(\"File content:\\n\", content)\n",
        "    except FileNotFoundError:\n",
        "        print(f\"Error: The file '{filename}' was not found.\")\n",
        "    except PermissionError:\n",
        "        print(f\"Error: Permission denied to open '{filename}'.\")\n",
        "    except Exception as e:\n",
        "        print(f\"An unexpected error occurred: {e}\")\n",
        "\n",
        "# Prompt user for a filename\n",
        "filename = input(\"Enter the filename to open: \")\n",
        "read_file(filename)"
      ],
      "metadata": {
        "colab": {
          "base_uri": "https://localhost:8080/"
        },
        "id": "4zBzjyBrUfaW",
        "outputId": "6f8c0bde-bd0e-4a42-f90c-aec71d797753"
      },
      "execution_count": 25,
      "outputs": [
        {
          "output_type": "stream",
          "name": "stdout",
          "text": [
            "Enter the filename to open: OFFICE\n",
            "Error: The file 'OFFICE' was not found.\n"
          ]
        }
      ]
    },
    {
      "cell_type": "code",
      "source": [
        "#9 How can you read a file line by line and store its content in a list in Python.\n",
        "with open(\"example.txt\", \"r\") as file:\n",
        "    lines = file.readlines()  # Reads all lines into a list\n",
        "\n",
        "# Print the list\n",
        "print(lines)"
      ],
      "metadata": {
        "colab": {
          "base_uri": "https://localhost:8080/"
        },
        "id": "IlRqjH9NUwA2",
        "outputId": "931612ae-8fa6-4f60-deb9-99bea1011be7"
      },
      "execution_count": 26,
      "outputs": [
        {
          "output_type": "stream",
          "name": "stdout",
          "text": [
            "['Hello, this is a sample text!\\n', 'This is an additional line.']\n"
          ]
        }
      ]
    },
    {
      "cell_type": "code",
      "source": [
        "#10  How can you append data to an existing file in Python.\n",
        "#Appending Multiple Lines\n",
        "\n",
        "new_lines = [\"\\nLine 1\", \"\\nLine 2\", \"\\nLine 3\"]\n",
        "\n",
        "with open(\"example.txt\", \"a\") as file:\n",
        "    file.writelines(new_lines)  # Append multiple lines at once\n",
        "filename = \"example.txt\"\n",
        "\n",
        "try:\n",
        "    with open(filename, \"a\") as file:\n",
        "        file.write(\"\\nAppending another line safely!\")\n",
        "except Exception as e:\n",
        "    print(f\"An error occurred: {e}\")\n",
        "with open(\"example.txt\", \"r\") as file:\n",
        "    print(file.read())  # Read and display file content"
      ],
      "metadata": {
        "colab": {
          "base_uri": "https://localhost:8080/"
        },
        "id": "uwUipWgFV0zn",
        "outputId": "da5a9e5b-bcf7-4b0c-8f44-1fdec349df9b"
      },
      "execution_count": 30,
      "outputs": [
        {
          "output_type": "stream",
          "name": "stdout",
          "text": [
            "Hello, this is a sample text!\n",
            "This is an additional line.\n",
            "Line 1\n",
            "Line 2\n",
            "Line 3\n",
            "Line 1\n",
            "Line 2\n",
            "Line 3\n",
            "Appending another line safely!\n",
            "Line 1\n",
            "Line 2\n",
            "Line 3\n",
            "Appending another line safely!\n"
          ]
        }
      ]
    },
    {
      "cell_type": "code",
      "source": [
        "#11 Write a Python program that uses a try-except block to handle an error when attempting to access a dictionary key that doesn't exist.\n",
        "# Sample dictionary\n",
        "student_scores = {\n",
        "    \"Alice\": 85,\n",
        "    \"Bob\": 92,\n",
        "    \"Charlie\": 78\n",
        "}\n",
        "\n",
        "try:\n",
        "    # Prompt user for a student name\n",
        "    name = input(\"Enter a student's name: \")\n",
        "\n",
        "    # Attempt to access the student's score\n",
        "    score = student_scores[name]\n",
        "    print(f\"{name}'s score: {score}\")\n",
        "\n",
        "except KeyError:\n",
        "    print(f\"Error: '{name}' not found in the dictionary.\")\n"
      ],
      "metadata": {
        "colab": {
          "base_uri": "https://localhost:8080/"
        },
        "id": "4fHO6Jp3V2pV",
        "outputId": "0bbba40f-a244-424f-978b-4223d5d33bfd"
      },
      "execution_count": 31,
      "outputs": [
        {
          "output_type": "stream",
          "name": "stdout",
          "text": [
            "Enter a student's name: ALICE\n",
            "Error: 'ALICE' not found in the dictionary.\n"
          ]
        }
      ]
    },
    {
      "cell_type": "code",
      "source": [
        "#12 Write a program that demonstrates using multiple except blocks to handle different types of exceptions.\n",
        "#Here's a Python program that demonstrates using multiple except blocks to handle different types of exceptions\n",
        "\n",
        "\n",
        "try:\n",
        "    # User input for numerator and denominator\n",
        "    numerator = int(input(\"Enter numerator: \"))\n",
        "    denominator = int(input(\"Enter denominator: \"))\n",
        "\n",
        "    # Perform division\n",
        "    result = numerator / denominator\n",
        "    print(\"Result:\", result)\n",
        "\n",
        "    # Access an element from a dictionary\n",
        "    student_scores = {\"Alice\": 85, \"Bob\": 92}\n",
        "    name = input(\"Enter a student's name to get their score: \")\n",
        "    print(f\"{name}'s score: {student_scores[name]}\")\n",
        "\n",
        "except ZeroDivisionError:\n",
        "    print(\"Error: Cannot divide by zero.\")\n",
        "\n",
        "except ValueError:\n",
        "    print(\"Error: Invalid input! Please enter numeric values.\")\n",
        "\n",
        "except KeyError:\n",
        "    print(\"Error: The student's name was not found in the dictionary.\")\n",
        "\n",
        "except Exception as e:\n",
        "    print(f\"An unexpected error occurred: {e}\")\n"
      ],
      "metadata": {
        "colab": {
          "base_uri": "https://localhost:8080/"
        },
        "id": "DQQLrARUV2mX",
        "outputId": "a8ac4d90-fb7e-43a6-bdba-9d4049425084"
      },
      "execution_count": 32,
      "outputs": [
        {
          "output_type": "stream",
          "name": "stdout",
          "text": [
            "Enter numerator: 5\n",
            "Enter denominator: 6\n",
            "Result: 0.8333333333333334\n",
            "Enter a student's name to get their score: BOb\n",
            "Error: The student's name was not found in the dictionary.\n"
          ]
        }
      ]
    },
    {
      "cell_type": "code",
      "source": [
        "#13 How would you check if a file exists before attempting to read it in Python.\n",
        "import os\n",
        "\n",
        "filename = \"example.txt\"\n",
        "\n",
        "if os.path.exists(filename):\n",
        "    with open(filename, \"r\") as file:\n",
        "        content = file.read()\n",
        "        print(\"File content:\\n\", content)\n",
        "else:\n",
        "    print(f\"Error: The file '{filename}' does not exist.\")"
      ],
      "metadata": {
        "colab": {
          "base_uri": "https://localhost:8080/"
        },
        "id": "kKBsgotiV2i-",
        "outputId": "49af8d14-1cfe-405c-af3a-f474e2bff416"
      },
      "execution_count": 33,
      "outputs": [
        {
          "output_type": "stream",
          "name": "stdout",
          "text": [
            "File content:\n",
            " Hello, this is a sample text!\n",
            "This is an additional line.\n",
            "Line 1\n",
            "Line 2\n",
            "Line 3\n",
            "Line 1\n",
            "Line 2\n",
            "Line 3\n",
            "Appending another line safely!\n",
            "Line 1\n",
            "Line 2\n",
            "Line 3\n",
            "Appending another line safely!\n"
          ]
        }
      ]
    },
    {
      "cell_type": "code",
      "source": [
        "#14 Write a program that uses the logging module to log both informational and error messages.\n",
        "import logging\n",
        "\n",
        "# Configure logging\n",
        "logging.basicConfig(\n",
        "    filename=\"app.log\",  # Log file\n",
        "    level=logging.DEBUG,  # Set minimum log level\n",
        "    format=\"%(asctime)s - %(levelname)s - %(message)s\",  # Log format\n",
        "    filemode=\"w\"  # Overwrite log file on each run; use 'a' to append\n",
        ")\n",
        "\n",
        "# Create a console handler to display logs in the terminal\n",
        "console_handler = logging.StreamHandler()\n",
        "console_handler.setLevel(logging.DEBUG)\n",
        "\n",
        "# Define log format for console output\n",
        "formatter = logging.Formatter(\"%(asctime)s - %(levelname)s - %(message)s\")\n",
        "console_handler.setFormatter(formatter)\n",
        "\n",
        "# Add the console handler to the logger\n",
        "logger = logging.getLogger()\n",
        "logger.addHandler(console_handler)\n",
        "\n",
        "# Example function with logging\n",
        "def divide_numbers(a, b):\n",
        "    try:\n",
        "        logging.info(f\"Attempting to divide {a} by {b}\")\n",
        "        result = a / b\n",
        "        logging.info(f\"Division successful: {result}\")\n",
        "        return result\n",
        "    except ZeroDivisionError:\n",
        "        logging.error(\"Error: Division by zero!\")\n",
        "    except Exception as e:\n",
        "        logging.error(f\"Unexpected error occurred: {e}\")\n",
        "\n",
        "# Example usage\n",
        "divide_numbers(10, 2)  # Successful division\n",
        "divide_numbers(5, 0)   # Error: Division by zero\n",
        "divide_numbers(\"x\", 3) # Error: Invalid input\n",
        "\n",
        "print(\"Logs have been written to 'app.log'.\")"
      ],
      "metadata": {
        "colab": {
          "base_uri": "https://localhost:8080/"
        },
        "id": "8Pqq5BkaV2fl",
        "outputId": "6baaf9f9-4743-4b1e-aa25-56c7e8a4e47b"
      },
      "execution_count": 34,
      "outputs": [
        {
          "output_type": "stream",
          "name": "stderr",
          "text": [
            "ERROR:root:Error: Division by zero!\n",
            "2025-03-18 08:26:59,759 - ERROR - Error: Division by zero!\n",
            "ERROR:root:Unexpected error occurred: unsupported operand type(s) for /: 'str' and 'int'\n",
            "2025-03-18 08:26:59,761 - ERROR - Unexpected error occurred: unsupported operand type(s) for /: 'str' and 'int'\n"
          ]
        },
        {
          "output_type": "stream",
          "name": "stdout",
          "text": [
            "Logs have been written to 'app.log'.\n"
          ]
        }
      ]
    },
    {
      "cell_type": "code",
      "source": [
        "#15 Write a Python program that prints the content of a file and handles the case when the file is empty.\n",
        "def read_file(filename):\n",
        "    try:\n",
        "        with open(filename, \"r\") as file:\n",
        "            content = file.read().strip()  # Read and remove extra spaces/newlines\n",
        "\n",
        "            if not content:\n",
        "                print(f\"Error: The file '{filename}' is empty.\")\n",
        "            else:\n",
        "                print(f\"Contents of '{filename}':\\n{content}\")\n",
        "\n",
        "    except FileNotFoundError:\n",
        "        print(f\"Error: The file '{filename}' was not found.\")\n",
        "    except PermissionError:\n",
        "        print(f\"Error: Permission denied to read '{filename}'.\")\n",
        "    except Exception as e:\n",
        "        print(f\"An unexpected error occurred: {e}\")\n",
        "\n",
        "# Ask user for a filename\n",
        "filename = input(\"Enter the filename: \")\n",
        "read_file(filename)"
      ],
      "metadata": {
        "colab": {
          "base_uri": "https://localhost:8080/"
        },
        "id": "pMlxDwsmV2cW",
        "outputId": "bbf117dc-3067-4783-9e01-e478bb7d4853"
      },
      "execution_count": 35,
      "outputs": [
        {
          "output_type": "stream",
          "name": "stdout",
          "text": [
            "Enter the filename: e\n",
            "Error: The file 'e' was not found.\n"
          ]
        }
      ]
    },
    {
      "cell_type": "code",
      "source": [
        "#16 Demonstrate how to use memory profiling to check the memory usage of a small program.\n",
        "#Memory Profiling in Python\n",
        "#To check the memory usage of a Python program, we can use the memory_profiler module. This helps track memory consumption of specific functions.\n",
        "\n",
        "from memory_profiler import profile\n",
        "\n",
        "@profile\n",
        "def memory_intensive_function():\n",
        "    # Creating a large list in memory\n",
        "    numbers = [i for i in range(1000000)]  # List with 1 million integers\n",
        "    squares = [x**2 for x in numbers]      # List of squares\n",
        "\n",
        "    del numbers  # Free up memory\n",
        "    return sum(squares)\n",
        "\n",
        "if __name__ == \"__main__\":\n",
        "    result = memory_intensive_function()\n",
        "    print(\"Sum of squares:\", result)\n",
        "\n"
      ],
      "metadata": {
        "colab": {
          "base_uri": "https://localhost:8080/",
          "height": 383
        },
        "id": "9ldteMkfV2Ze",
        "outputId": "1eed788f-3d67-4cf3-8326-ceab7905ceac"
      },
      "execution_count": 38,
      "outputs": [
        {
          "output_type": "error",
          "ename": "ModuleNotFoundError",
          "evalue": "No module named 'memory_profiler'",
          "traceback": [
            "\u001b[0;31m---------------------------------------------------------------------------\u001b[0m",
            "\u001b[0;31mModuleNotFoundError\u001b[0m                       Traceback (most recent call last)",
            "\u001b[0;32m<ipython-input-38-bc649450dd79>\u001b[0m in \u001b[0;36m<cell line: 0>\u001b[0;34m()\u001b[0m\n\u001b[1;32m      2\u001b[0m \u001b[0;31m#Memory Profiling in Python\u001b[0m\u001b[0;34m\u001b[0m\u001b[0;34m\u001b[0m\u001b[0m\n\u001b[1;32m      3\u001b[0m \u001b[0;31m#To check the memory usage of a Python program, we can use the memory_profiler module. This helps track memory consumption of specific functions.\u001b[0m\u001b[0;34m\u001b[0m\u001b[0;34m\u001b[0m\u001b[0m\n\u001b[0;32m----> 4\u001b[0;31m \u001b[0;32mfrom\u001b[0m \u001b[0mmemory_profiler\u001b[0m \u001b[0;32mimport\u001b[0m \u001b[0mprofile\u001b[0m\u001b[0;34m\u001b[0m\u001b[0;34m\u001b[0m\u001b[0m\n\u001b[0m\u001b[1;32m      5\u001b[0m \u001b[0;34m\u001b[0m\u001b[0m\n\u001b[1;32m      6\u001b[0m \u001b[0;34m@\u001b[0m\u001b[0mprofile\u001b[0m\u001b[0;34m\u001b[0m\u001b[0;34m\u001b[0m\u001b[0m\n",
            "\u001b[0;31mModuleNotFoundError\u001b[0m: No module named 'memory_profiler'",
            "",
            "\u001b[0;31m---------------------------------------------------------------------------\u001b[0;32m\nNOTE: If your import is failing due to a missing package, you can\nmanually install dependencies using either !pip or !apt.\n\nTo view examples of installing some common dependencies, click the\n\"Open Examples\" button below.\n\u001b[0;31m---------------------------------------------------------------------------\u001b[0m\n"
          ],
          "errorDetails": {
            "actions": [
              {
                "action": "open_url",
                "actionText": "Open Examples",
                "url": "/notebooks/snippets/importing_libraries.ipynb"
              }
            ]
          }
        }
      ]
    },
    {
      "cell_type": "code",
      "source": [
        "#17  Write a Python program to create and write a list of numbers to a file, one number per line.\n",
        "def write_numbers_to_file(filename, numbers):\n",
        "    try:\n",
        "        with open(filename, \"w\") as file:\n",
        "            for number in numbers:\n",
        "                file.write(f\"{number}\\n\")\n",
        "        print(f\"Successfully wrote {len(numbers)} numbers to '{filename}'.\")\n",
        "    except Exception as e:\n",
        "        print(f\"Error: {e}\")\n",
        "\n",
        "# List of numbers to write\n",
        "numbers_list = list(range(1, 21))  # Numbers from 1 to 20\n",
        "\n",
        "# File name\n",
        "filename = \"numbers.txt\"\n",
        "\n",
        "# Write numbers to file\n",
        "write_numbers_to_file(filename, numbers_list)"
      ],
      "metadata": {
        "colab": {
          "base_uri": "https://localhost:8080/"
        },
        "id": "b0fduMG9V2WN",
        "outputId": "3d495a8a-6272-4a2a-ff9a-d75723fa8cd2"
      },
      "execution_count": 39,
      "outputs": [
        {
          "output_type": "stream",
          "name": "stdout",
          "text": [
            "Successfully wrote 20 numbers to 'numbers.txt'.\n"
          ]
        }
      ]
    },
    {
      "cell_type": "code",
      "source": [
        "#18 How would you implement a basic logging setup that logs to a file with rotation after 1MB.\n",
        "import logging\n",
        "from logging.handlers import RotatingFileHandler\n",
        "\n",
        "# Configure logging\n",
        "log_filename = \"app.log\"\n",
        "\n",
        "# Create a rotating file handler (max 1MB per file, keep last 3 backups)\n",
        "handler = RotatingFileHandler(log_filename, maxBytes=1_000_000, backupCount=3)\n",
        "\n",
        "# Set logging format\n",
        "formatter = logging.Formatter(\"%(asctime)s - %(levelname)s - %(message)s\")\n",
        "handler.setFormatter(formatter)\n",
        "\n",
        "# Get the root logger\n",
        "logger = logging.getLogger()\n",
        "logger.setLevel(logging.DEBUG)  # Capture DEBUG, INFO, WARNING, ERROR, CRITICAL\n",
        "logger.addHandler(handler)\n",
        "\n",
        "# Example logs to fill up the file quickly\n",
        "for i in range(10000):\n",
        "    logger.info(f\"Log message {i}\")\n",
        "\n",
        "print(f\"Logs are being written to '{log_filename}' with rotation after 1MB.\")"
      ],
      "metadata": {
        "id": "G2aaPPBhV2P9"
      },
      "execution_count": null,
      "outputs": []
    },
    {
      "cell_type": "code",
      "source": [
        "#19 Write a program that handles both IndexError and KeyError using a try-except block.\n",
        "def handle_exceptions():\n",
        "    my_list = [10, 20, 30]\n",
        "    my_dict = {\"name\": \"Alice\", \"age\": 25}\n",
        "\n",
        "    try:\n",
        "        # Attempt to access an out-of-range index\n",
        "        print(\"List element:\", my_list[5])  # This will raise IndexError\n",
        "\n",
        "        # Attempt to access a missing dictionary key\n",
        "        print(\"City:\", my_dict[\"city\"])  # This will raise KeyError\n",
        "\n",
        "    except IndexError:\n",
        "        print(\"Error: List index out of range!\")\n",
        "\n",
        "    except KeyError:\n",
        "        print(\"Error: Key not found in dictionary!\")\n",
        "\n",
        "# Run the function\n",
        "handle_exceptions()"
      ],
      "metadata": {
        "colab": {
          "base_uri": "https://localhost:8080/"
        },
        "id": "0wMJ9PxWV2NA",
        "outputId": "05373d67-e205-4a56-931b-49f363672139"
      },
      "execution_count": 41,
      "outputs": [
        {
          "output_type": "stream",
          "name": "stdout",
          "text": [
            "Error: List index out of range!\n"
          ]
        }
      ]
    },
    {
      "cell_type": "code",
      "source": [
        "#20  How would you open a file and read its contents using a context manager in Python.\n",
        "filename = \"example.txt\"\n",
        "\n",
        "try:\n",
        "    with open(filename, \"r\") as file:\n",
        "        content = file.read()\n",
        "        print(\"File Content:\\n\", content)\n",
        "except FileNotFoundError:\n",
        "    print(f\"Error: The file '{filename}' does not exist.\")\n",
        "except Exception as e:\n",
        "    print(f\"An error occurred: {e}\")"
      ],
      "metadata": {
        "colab": {
          "base_uri": "https://localhost:8080/"
        },
        "id": "4OAaWGXxV2Jd",
        "outputId": "2ceec62e-7f2d-43cf-e4d4-e4ffe029c88c"
      },
      "execution_count": 42,
      "outputs": [
        {
          "output_type": "stream",
          "name": "stdout",
          "text": [
            "File Content:\n",
            " Hello, this is a sample text!\n",
            "This is an additional line.\n",
            "Line 1\n",
            "Line 2\n",
            "Line 3\n",
            "Line 1\n",
            "Line 2\n",
            "Line 3\n",
            "Appending another line safely!\n",
            "Line 1\n",
            "Line 2\n",
            "Line 3\n",
            "Appending another line safely!\n"
          ]
        }
      ]
    },
    {
      "cell_type": "code",
      "source": [
        "#21 Write a Python program that reads a file and prints the number of occurrences of a specific word.\n",
        "def count_word_occurrences(filename, word):\n",
        "    try:\n",
        "        with open(filename, \"r\", encoding=\"utf-8\") as file:\n",
        "            content = file.read().lower()  # Read and convert to lowercase\n",
        "\n",
        "            word_count = content.split().count(word.lower())  # Count occurrences\n",
        "            print(f\"The word '{word}' appears {word_count} times in '{filename}'.\")\n",
        "\n",
        "    except FileNotFoundError:\n",
        "        print(f\"Error: The file '{filename}' was not found.\")\n",
        "    except Exception as e:\n",
        "        print(f\"An error occurred: {e}\")\n",
        "\n",
        "# User input\n",
        "filename = input(\"Enter the filename: \")\n",
        "word_to_count = input(\"Enter the word to count: \")\n",
        "\n",
        "# Count occurrences\n",
        "count_word_occurrences(filename, word_to_count)"
      ],
      "metadata": {
        "colab": {
          "base_uri": "https://localhost:8080/"
        },
        "id": "H6dyTA3rV2Fd",
        "outputId": "e5d11f9f-0f11-41af-9410-6d1e5ab419a4"
      },
      "execution_count": 43,
      "outputs": [
        {
          "output_type": "stream",
          "name": "stdout",
          "text": [
            "Enter the filename: r\n",
            "Enter the word to count: 20\n",
            "Error: The file 'r' was not found.\n"
          ]
        }
      ]
    },
    {
      "cell_type": "code",
      "source": [
        "#22 How can you check if a file is empty before attempting to read its contents.\n",
        "#Method 1: Using os.path.getsize() (Best Approach)\n",
        "\n",
        "import os\n",
        "\n",
        "def is_file_empty(filename):\n",
        "    return os.path.getsize(filename) == 0  # Returns True if file size is 0\n",
        "\n",
        "filename = \"sample.txt\"\n",
        "\n",
        "if os.path.exists(filename):\n",
        "    if is_file_empty(filename):\n",
        "        print(f\"Error: The file '{filename}' is empty.\")\n",
        "    else:\n",
        "        with open(filename, \"r\") as file:\n",
        "            content = file.read()\n",
        "            print(\"File Content:\\n\", content)\n",
        "else:\n",
        "    print(f\"Error: The file '{filename}' does not exist.\")"
      ],
      "metadata": {
        "colab": {
          "base_uri": "https://localhost:8080/"
        },
        "id": "KFtEouqFV199",
        "outputId": "fa100969-d776-4972-a4aa-5ab9b9f33bf2"
      },
      "execution_count": 44,
      "outputs": [
        {
          "output_type": "stream",
          "name": "stdout",
          "text": [
            "Error: The file 'sample.txt' does not exist.\n"
          ]
        }
      ]
    },
    {
      "cell_type": "code",
      "source": [
        "#23 Write a Python program that writes to a log file when an error occurs during file handling.\n",
        "import logging\n",
        "\n",
        "# Configure logging\n",
        "logging.basicConfig(filename=\"file_errors.log\",\n",
        "                    level=logging.ERROR,\n",
        "                    format=\"%(asctime)s - %(levelname)s - %(message)s\")\n",
        "\n",
        "def read_file(filename):\n",
        "    try:\n",
        "        with open(filename, \"r\") as file:\n",
        "            content = file.read()\n",
        "            print(\"File Content:\\n\", content)\n",
        "    except FileNotFoundError:\n",
        "        logging.error(f\"File '{filename}' not found.\")\n",
        "        print(f\"Error: The file '{filename}' does not exist. Logged the error.\")\n",
        "    except Exception as e:\n",
        "        logging.error(f\"An unexpected error occurred: {e}\")\n",
        "        print(f\"An unexpected error occurred. Logged the error.\")\n",
        "\n",
        "# Example usage\n",
        "filename = input(\"Enter the filename to read: \")\n",
        "read_file(filename)"
      ],
      "metadata": {
        "colab": {
          "base_uri": "https://localhost:8080/"
        },
        "id": "AjInqg1WV1zX",
        "outputId": "ec502d55-5665-4697-a5e5-3d73a1a48ea8"
      },
      "execution_count": 45,
      "outputs": [
        {
          "name": "stdout",
          "output_type": "stream",
          "text": [
            "Enter the filename to read: r\n"
          ]
        },
        {
          "output_type": "stream",
          "name": "stderr",
          "text": [
            "ERROR:root:File 'r' not found.\n",
            "2025-03-18 08:41:40,637 - ERROR - File 'r' not found.\n"
          ]
        },
        {
          "output_type": "stream",
          "name": "stdout",
          "text": [
            "Error: The file 'r' does not exist. Logged the error.\n"
          ]
        }
      ]
    }
  ]
}